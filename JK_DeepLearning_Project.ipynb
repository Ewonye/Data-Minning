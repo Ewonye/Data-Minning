{
 "cells": [
  {
   "attachments": {
    "logo.png": {
     "image/png": "[encoded data removed]"
    }
   },
   "cell_type": "markdown",
   "metadata": {},
   "source": [
    "![logo.png](attachment:logo.png)"
   ]
  },
  {
   "cell_type": "markdown",
   "metadata": {
    "ExecuteTime": {
     "end_time": "2021-04-02T11:44:54.295176Z",
     "start_time": "2021-04-02T11:44:54.286742Z"
    }
   },
   "source": [
    "<h1>DEEP LEARNING PROJECT</h1>\n",
    "<h2>BOSTON DATASET HOUSING PREDICTION</h2>"
   ]
  },
  {
   "cell_type": "code",
   "execution_count": 1,
   "metadata": {
    "ExecuteTime": {
     "end_time": "2021-04-14T12:52:35.861327Z",
     "start_time": "2021-04-14T12:51:47.682293Z"
    }
   },
   "outputs": [],
   "source": [
    "import tensorflow as tf\n",
    "import numpy as np\n",
    "import pandas as pd"
   ]
  },
  {
   "cell_type": "code",
   "execution_count": 2,
   "metadata": {
    "ExecuteTime": {
     "end_time": "2021-04-14T12:52:38.215687Z",
     "start_time": "2021-04-14T12:52:35.862847Z"
    }
   },
   "outputs": [],
   "source": [
    "from sklearn.datasets import load_boston\n",
    "boston_housing =load_boston()\n",
    "df=pd.DataFrame(boston_housing.data,columns=boston_housing.feature_names)"
   ]
  },
  {
   "cell_type": "code",
   "execution_count": 3,
   "metadata": {
    "ExecuteTime": {
     "end_time": "2021-04-14T12:52:38.246238Z",
     "start_time": "2021-04-14T12:52:38.215687Z"
    }
   },
   "outputs": [
    {
     "data": {
      "text/plain": [
       "(506, 13)"
      ]
     },
     "execution_count": 3,
     "metadata": {},
     "output_type": "execute_result"
    }
   ],
   "source": [
    "df.shape"
   ]
  },
  {
   "cell_type": "code",
   "execution_count": 4,
   "metadata": {
    "ExecuteTime": {
     "end_time": "2021-04-14T12:52:38.355107Z",
     "start_time": "2021-04-14T12:52:38.250230Z"
    }
   },
   "outputs": [
    {
     "data": {
      "text/plain": [
       "CRIM       0\n",
       "ZN         0\n",
       "INDUS      0\n",
       "CHAS       0\n",
       "NOX        0\n",
       "RM         0\n",
       "AGE        0\n",
       "DIS        0\n",
       "RAD        0\n",
       "TAX        0\n",
       "PTRATIO    0\n",
       "B          0\n",
       "LSTAT      0\n",
       "dtype: int64"
      ]
     },
     "execution_count": 4,
     "metadata": {},
     "output_type": "execute_result"
    }
   ],
   "source": [
    "df.isnull().sum()"
   ]
  },
  {
   "cell_type": "code",
   "execution_count": 5,
   "metadata": {
    "ExecuteTime": {
     "end_time": "2021-04-14T12:52:38.551419Z",
     "start_time": "2021-04-14T12:52:38.357102Z"
    }
   },
   "outputs": [
    {
     "data": {
      "text/html": [
       "<div>\n",
       "<style scoped>\n",
       "    .dataframe tbody tr th:only-of-type {\n",
       "        vertical-align: middle;\n",
       "    }\n",
       "\n",
       "    .dataframe tbody tr th {\n",
       "        vertical-align: top;\n",
       "    }\n",
       "\n",
       "    .dataframe thead th {\n",
       "        text-align: right;\n",
       "    }\n",
       "</style>\n",
       "<table border=\"1\" class=\"dataframe\">\n",
       "  <thead>\n",
       "    <tr style=\"text-align: right;\">\n",
       "      <th></th>\n",
       "      <th>count</th>\n",
       "      <th>mean</th>\n",
       "      <th>std</th>\n",
       "      <th>min</th>\n",
       "      <th>25%</th>\n",
       "      <th>50%</th>\n",
       "      <th>75%</th>\n",
       "      <th>max</th>\n",
       "    </tr>\n",
       "  </thead>\n",
       "  <tbody>\n",
       "    <tr>\n",
       "      <th>CRIM</th>\n",
       "      <td>506.0</td>\n",
       "      <td>3.613524</td>\n",
       "      <td>8.601545</td>\n",
       "      <td>0.00632</td>\n",
       "      <td>0.082045</td>\n",
       "      <td>0.25651</td>\n",
       "      <td>3.677083</td>\n",
       "      <td>88.9762</td>\n",
       "    </tr>\n",
       "    <tr>\n",
       "      <th>ZN</th>\n",
       "      <td>506.0</td>\n",
       "      <td>11.363636</td>\n",
       "      <td>23.322453</td>\n",
       "      <td>0.00000</td>\n",
       "      <td>0.000000</td>\n",
       "      <td>0.00000</td>\n",
       "      <td>12.500000</td>\n",
       "      <td>100.0000</td>\n",
       "    </tr>\n",
       "    <tr>\n",
       "      <th>INDUS</th>\n",
       "      <td>506.0</td>\n",
       "      <td>11.136779</td>\n",
       "      <td>6.860353</td>\n",
       "      <td>0.46000</td>\n",
       "      <td>5.190000</td>\n",
       "      <td>9.69000</td>\n",
       "      <td>18.100000</td>\n",
       "      <td>27.7400</td>\n",
       "    </tr>\n",
       "    <tr>\n",
       "      <th>CHAS</th>\n",
       "      <td>506.0</td>\n",
       "      <td>0.069170</td>\n",
       "      <td>0.253994</td>\n",
       "      <td>0.00000</td>\n",
       "      <td>0.000000</td>\n",
       "      <td>0.00000</td>\n",
       "      <td>0.000000</td>\n",
       "      <td>1.0000</td>\n",
       "    </tr>\n",
       "    <tr>\n",
       "      <th>NOX</th>\n",
       "      <td>506.0</td>\n",
       "      <td>0.554695</td>\n",
       "      <td>0.115878</td>\n",
       "      <td>0.38500</td>\n",
       "      <td>0.449000</td>\n",
       "      <td>0.53800</td>\n",
       "      <td>0.624000</td>\n",
       "      <td>0.8710</td>\n",
       "    </tr>\n",
       "    <tr>\n",
       "      <th>RM</th>\n",
       "      <td>506.0</td>\n",
       "      <td>6.284634</td>\n",
       "      <td>0.702617</td>\n",
       "      <td>3.56100</td>\n",
       "      <td>5.885500</td>\n",
       "      <td>6.20850</td>\n",
       "      <td>6.623500</td>\n",
       "      <td>8.7800</td>\n",
       "    </tr>\n",
       "    <tr>\n",
       "      <th>AGE</th>\n",
       "      <td>506.0</td>\n",
       "      <td>68.574901</td>\n",
       "      <td>28.148861</td>\n",
       "      <td>2.90000</td>\n",
       "      <td>45.025000</td>\n",
       "      <td>77.50000</td>\n",
       "      <td>94.075000</td>\n",
       "      <td>100.0000</td>\n",
       "    </tr>\n",
       "    <tr>\n",
       "      <th>DIS</th>\n",
       "      <td>506.0</td>\n",
       "      <td>3.795043</td>\n",
       "      <td>2.105710</td>\n",
       "      <td>1.12960</td>\n",
       "      <td>2.100175</td>\n",
       "      <td>3.20745</td>\n",
       "      <td>5.188425</td>\n",
       "      <td>12.1265</td>\n",
       "    </tr>\n",
       "    <tr>\n",
       "      <th>RAD</th>\n",
       "      <td>506.0</td>\n",
       "      <td>9.549407</td>\n",
       "      <td>8.707259</td>\n",
       "      <td>1.00000</td>\n",
       "      <td>4.000000</td>\n",
       "      <td>5.00000</td>\n",
       "      <td>24.000000</td>\n",
       "      <td>24.0000</td>\n",
       "    </tr>\n",
       "    <tr>\n",
       "      <th>TAX</th>\n",
       "      <td>506.0</td>\n",
       "      <td>408.237154</td>\n",
       "      <td>168.537116</td>\n",
       "      <td>187.00000</td>\n",
       "      <td>279.000000</td>\n",
       "      <td>330.00000</td>\n",
       "      <td>666.000000</td>\n",
       "      <td>711.0000</td>\n",
       "    </tr>\n",
       "    <tr>\n",
       "      <th>PTRATIO</th>\n",
       "      <td>506.0</td>\n",
       "      <td>18.455534</td>\n",
       "      <td>2.164946</td>\n",
       "      <td>12.60000</td>\n",
       "      <td>17.400000</td>\n",
       "      <td>19.05000</td>\n",
       "      <td>20.200000</td>\n",
       "      <td>22.0000</td>\n",
       "    </tr>\n",
       "    <tr>\n",
       "      <th>B</th>\n",
       "      <td>506.0</td>\n",
       "      <td>356.674032</td>\n",
       "      <td>91.294864</td>\n",
       "      <td>0.32000</td>\n",
       "      <td>375.377500</td>\n",
       "      <td>391.44000</td>\n",
       "      <td>396.225000</td>\n",
       "      <td>396.9000</td>\n",
       "    </tr>\n",
       "    <tr>\n",
       "      <th>LSTAT</th>\n",
       "      <td>506.0</td>\n",
       "      <td>12.653063</td>\n",
       "      <td>7.141062</td>\n",
       "      <td>1.73000</td>\n",
       "      <td>6.950000</td>\n",
       "      <td>11.36000</td>\n",
       "      <td>16.955000</td>\n",
       "      <td>37.9700</td>\n",
       "    </tr>\n",
       "  </tbody>\n",
       "</table>\n",
       "</div>"
      ],
      "text/plain": [
       "         count        mean         std        min         25%        50%  \\\n",
       "CRIM     506.0    3.613524    8.601545    0.00632    0.082045    0.25651   \n",
       "ZN       506.0   11.363636   23.322453    0.00000    0.000000    0.00000   \n",
       "INDUS    506.0   11.136779    6.860353    0.46000    5.190000    9.69000   \n",
       "CHAS     506.0    0.069170    0.253994    0.00000    0.000000    0.00000   \n",
       "NOX      506.0    0.554695    0.115878    0.38500    0.449000    0.53800   \n",
       "RM       506.0    6.284634    0.702617    3.56100    5.885500    6.20850   \n",
       "AGE      506.0   68.574901   28.148861    2.90000   45.025000   77.50000   \n",
       "DIS      506.0    3.795043    2.105710    1.12960    2.100175    3.20745   \n",
       "RAD      506.0    9.549407    8.707259    1.00000    4.000000    5.00000   \n",
       "TAX      506.0  408.237154  168.537116  187.00000  279.000000  330.00000   \n",
       "PTRATIO  506.0   18.455534    2.164946   12.60000   17.400000   19.05000   \n",
       "B        506.0  356.674032   91.294864    0.32000  375.377500  391.44000   \n",
       "LSTAT    506.0   12.653063    7.141062    1.73000    6.950000   11.36000   \n",
       "\n",
       "                75%       max  \n",
       "CRIM       3.677083   88.9762  \n",
       "ZN        12.500000  100.0000  \n",
       "INDUS     18.100000   27.7400  \n",
       "CHAS       0.000000    1.0000  \n",
       "NOX        0.624000    0.8710  \n",
       "RM         6.623500    8.7800  \n",
       "AGE       94.075000  100.0000  \n",
       "DIS        5.188425   12.1265  \n",
       "RAD       24.000000   24.0000  \n",
       "TAX      666.000000  711.0000  \n",
       "PTRATIO   20.200000   22.0000  \n",
       "B        396.225000  396.9000  \n",
       "LSTAT     16.955000   37.9700  "
      ]
     },
     "execution_count": 5,
     "metadata": {},
     "output_type": "execute_result"
    }
   ],
   "source": [
    "df.describe().T"
   ]
  },
  {
   "cell_type": "code",
   "execution_count": 6,
   "metadata": {
    "ExecuteTime": {
     "end_time": "2021-04-14T12:52:38.567344Z",
     "start_time": "2021-04-14T12:52:38.553374Z"
    }
   },
   "outputs": [
    {
     "data": {
      "text/plain": [
       "CRIM       float64\n",
       "ZN         float64\n",
       "INDUS      float64\n",
       "CHAS       float64\n",
       "NOX        float64\n",
       "RM         float64\n",
       "AGE        float64\n",
       "DIS        float64\n",
       "RAD        float64\n",
       "TAX        float64\n",
       "PTRATIO    float64\n",
       "B          float64\n",
       "LSTAT      float64\n",
       "dtype: object"
      ]
     },
     "execution_count": 6,
     "metadata": {},
     "output_type": "execute_result"
    }
   ],
   "source": [
    "df.dtypes"
   ]
  },
  {
   "cell_type": "code",
   "execution_count": 7,
   "metadata": {
    "ExecuteTime": {
     "end_time": "2021-04-14T12:52:38.659137Z",
     "start_time": "2021-04-14T12:52:38.570328Z"
    }
   },
   "outputs": [
    {
     "data": {
      "text/plain": [
       "Index(['CRIM', 'ZN', 'INDUS', 'CHAS', 'NOX', 'RM', 'AGE', 'DIS', 'RAD', 'TAX',\n",
       "       'PTRATIO', 'B', 'LSTAT'],\n",
       "      dtype='object')"
      ]
     },
     "execution_count": 7,
     "metadata": {},
     "output_type": "execute_result"
    }
   ],
   "source": [
    "df.columns"
   ]
  },
  {
   "cell_type": "markdown",
   "metadata": {},
   "source": [
    "CRIM: Per capita crime rate by town\n",
    "ZN: Proportion of residential land zoned for lots over 25,000 sq. ft\n",
    "INDUS: Proportion of non-retail business acres per town\n",
    "CHAS: Charles River dummy variable (= 1 if tract bounds river; 0 otherwise)\n",
    "NOX: Nitric oxide concentration (parts per 10 million)\n",
    "RM: Average number of rooms per dwelling\n",
    "AGE: Proportion of owner-occupied units built prior to 1940\n",
    "DIS: Weighted distances to five Boston employment centers\n",
    "RAD: Index of accessibility to radial highways\n",
    "TAX: Full-value property tax rate per $10,000\n",
    "PTRATIO: Pupil-teacher ratio by town\n",
    "B: 1000(Bk — 0.63)², where Bk is the proportion of [people of African American descent] by town\n",
    "LSTAT: Percentage of lower status of the population\n",
    "MEDV: Median value of owner-occupied homes in $1000s"
   ]
  },
  {
   "cell_type": "code",
   "execution_count": 8,
   "metadata": {
    "ExecuteTime": {
     "end_time": "2021-04-14T12:52:38.781187Z",
     "start_time": "2021-04-14T12:52:38.661132Z"
    }
   },
   "outputs": [
    {
     "data": {
      "text/html": [
       "<div>\n",
       "<style scoped>\n",
       "    .dataframe tbody tr th:only-of-type {\n",
       "        vertical-align: middle;\n",
       "    }\n",
       "\n",
       "    .dataframe tbody tr th {\n",
       "        vertical-align: top;\n",
       "    }\n",
       "\n",
       "    .dataframe thead th {\n",
       "        text-align: right;\n",
       "    }\n",
       "</style>\n",
       "<table border=\"1\" class=\"dataframe\">\n",
       "  <thead>\n",
       "    <tr style=\"text-align: right;\">\n",
       "      <th></th>\n",
       "      <th>CRIM</th>\n",
       "      <th>ZN</th>\n",
       "      <th>INDUS</th>\n",
       "      <th>CHAS</th>\n",
       "      <th>NOX</th>\n",
       "      <th>RM</th>\n",
       "      <th>AGE</th>\n",
       "      <th>DIS</th>\n",
       "      <th>RAD</th>\n",
       "      <th>TAX</th>\n",
       "      <th>PTRATIO</th>\n",
       "      <th>B</th>\n",
       "      <th>LSTAT</th>\n",
       "    </tr>\n",
       "  </thead>\n",
       "  <tbody>\n",
       "    <tr>\n",
       "      <th>0</th>\n",
       "      <td>0.00632</td>\n",
       "      <td>18.0</td>\n",
       "      <td>2.31</td>\n",
       "      <td>0.0</td>\n",
       "      <td>0.538</td>\n",
       "      <td>6.575</td>\n",
       "      <td>65.2</td>\n",
       "      <td>4.0900</td>\n",
       "      <td>1.0</td>\n",
       "      <td>296.0</td>\n",
       "      <td>15.3</td>\n",
       "      <td>396.90</td>\n",
       "      <td>4.98</td>\n",
       "    </tr>\n",
       "    <tr>\n",
       "      <th>1</th>\n",
       "      <td>0.02731</td>\n",
       "      <td>0.0</td>\n",
       "      <td>7.07</td>\n",
       "      <td>0.0</td>\n",
       "      <td>0.469</td>\n",
       "      <td>6.421</td>\n",
       "      <td>78.9</td>\n",
       "      <td>4.9671</td>\n",
       "      <td>2.0</td>\n",
       "      <td>242.0</td>\n",
       "      <td>17.8</td>\n",
       "      <td>396.90</td>\n",
       "      <td>9.14</td>\n",
       "    </tr>\n",
       "    <tr>\n",
       "      <th>2</th>\n",
       "      <td>0.02729</td>\n",
       "      <td>0.0</td>\n",
       "      <td>7.07</td>\n",
       "      <td>0.0</td>\n",
       "      <td>0.469</td>\n",
       "      <td>7.185</td>\n",
       "      <td>61.1</td>\n",
       "      <td>4.9671</td>\n",
       "      <td>2.0</td>\n",
       "      <td>242.0</td>\n",
       "      <td>17.8</td>\n",
       "      <td>392.83</td>\n",
       "      <td>4.03</td>\n",
       "    </tr>\n",
       "    <tr>\n",
       "      <th>3</th>\n",
       "      <td>0.03237</td>\n",
       "      <td>0.0</td>\n",
       "      <td>2.18</td>\n",
       "      <td>0.0</td>\n",
       "      <td>0.458</td>\n",
       "      <td>6.998</td>\n",
       "      <td>45.8</td>\n",
       "      <td>6.0622</td>\n",
       "      <td>3.0</td>\n",
       "      <td>222.0</td>\n",
       "      <td>18.7</td>\n",
       "      <td>394.63</td>\n",
       "      <td>2.94</td>\n",
       "    </tr>\n",
       "    <tr>\n",
       "      <th>4</th>\n",
       "      <td>0.06905</td>\n",
       "      <td>0.0</td>\n",
       "      <td>2.18</td>\n",
       "      <td>0.0</td>\n",
       "      <td>0.458</td>\n",
       "      <td>7.147</td>\n",
       "      <td>54.2</td>\n",
       "      <td>6.0622</td>\n",
       "      <td>3.0</td>\n",
       "      <td>222.0</td>\n",
       "      <td>18.7</td>\n",
       "      <td>396.90</td>\n",
       "      <td>5.33</td>\n",
       "    </tr>\n",
       "  </tbody>\n",
       "</table>\n",
       "</div>"
      ],
      "text/plain": [
       "      CRIM    ZN  INDUS  CHAS    NOX     RM   AGE     DIS  RAD    TAX  \\\n",
       "0  0.00632  18.0   2.31   0.0  0.538  6.575  65.2  4.0900  1.0  296.0   \n",
       "1  0.02731   0.0   7.07   0.0  0.469  6.421  78.9  4.9671  2.0  242.0   \n",
       "2  0.02729   0.0   7.07   0.0  0.469  7.185  61.1  4.9671  2.0  242.0   \n",
       "3  0.03237   0.0   2.18   0.0  0.458  6.998  45.8  6.0622  3.0  222.0   \n",
       "4  0.06905   0.0   2.18   0.0  0.458  7.147  54.2  6.0622  3.0  222.0   \n",
       "\n",
       "   PTRATIO       B  LSTAT  \n",
       "0     15.3  396.90   4.98  \n",
       "1     17.8  396.90   9.14  \n",
       "2     17.8  392.83   4.03  \n",
       "3     18.7  394.63   2.94  \n",
       "4     18.7  396.90   5.33  "
      ]
     },
     "execution_count": 8,
     "metadata": {},
     "output_type": "execute_result"
    }
   ],
   "source": [
    "df.head()"
   ]
  },
  {
   "cell_type": "code",
   "execution_count": 9,
   "metadata": {
    "ExecuteTime": {
     "end_time": "2021-04-14T12:52:38.874715Z",
     "start_time": "2021-04-14T12:52:38.786177Z"
    }
   },
   "outputs": [
    {
     "data": {
      "text/html": [
       "<div>\n",
       "<style scoped>\n",
       "    .dataframe tbody tr th:only-of-type {\n",
       "        vertical-align: middle;\n",
       "    }\n",
       "\n",
       "    .dataframe tbody tr th {\n",
       "        vertical-align: top;\n",
       "    }\n",
       "\n",
       "    .dataframe thead th {\n",
       "        text-align: right;\n",
       "    }\n",
       "</style>\n",
       "<table border=\"1\" class=\"dataframe\">\n",
       "  <thead>\n",
       "    <tr style=\"text-align: right;\">\n",
       "      <th></th>\n",
       "      <th>0</th>\n",
       "    </tr>\n",
       "  </thead>\n",
       "  <tbody>\n",
       "    <tr>\n",
       "      <th>0</th>\n",
       "      <td>24.0</td>\n",
       "    </tr>\n",
       "    <tr>\n",
       "      <th>1</th>\n",
       "      <td>21.6</td>\n",
       "    </tr>\n",
       "    <tr>\n",
       "      <th>2</th>\n",
       "      <td>34.7</td>\n",
       "    </tr>\n",
       "    <tr>\n",
       "      <th>3</th>\n",
       "      <td>33.4</td>\n",
       "    </tr>\n",
       "    <tr>\n",
       "      <th>4</th>\n",
       "      <td>36.2</td>\n",
       "    </tr>\n",
       "    <tr>\n",
       "      <th>...</th>\n",
       "      <td>...</td>\n",
       "    </tr>\n",
       "    <tr>\n",
       "      <th>501</th>\n",
       "      <td>22.4</td>\n",
       "    </tr>\n",
       "    <tr>\n",
       "      <th>502</th>\n",
       "      <td>20.6</td>\n",
       "    </tr>\n",
       "    <tr>\n",
       "      <th>503</th>\n",
       "      <td>23.9</td>\n",
       "    </tr>\n",
       "    <tr>\n",
       "      <th>504</th>\n",
       "      <td>22.0</td>\n",
       "    </tr>\n",
       "    <tr>\n",
       "      <th>505</th>\n",
       "      <td>11.9</td>\n",
       "    </tr>\n",
       "  </tbody>\n",
       "</table>\n",
       "<p>506 rows × 1 columns</p>\n",
       "</div>"
      ],
      "text/plain": [
       "        0\n",
       "0    24.0\n",
       "1    21.6\n",
       "2    34.7\n",
       "3    33.4\n",
       "4    36.2\n",
       "..    ...\n",
       "501  22.4\n",
       "502  20.6\n",
       "503  23.9\n",
       "504  22.0\n",
       "505  11.9\n",
       "\n",
       "[506 rows x 1 columns]"
      ]
     },
     "execution_count": 9,
     "metadata": {},
     "output_type": "execute_result"
    }
   ],
   "source": [
    "Y=pd.DataFrame(boston_housing.target)\n",
    "Y"
   ]
  },
  {
   "cell_type": "code",
   "execution_count": 10,
   "metadata": {
    "ExecuteTime": {
     "end_time": "2021-04-14T12:52:39.704644Z",
     "start_time": "2021-04-14T12:52:38.878707Z"
    }
   },
   "outputs": [],
   "source": [
    "import matplotlib.pyplot as plt\n",
    "%matplotlib inline\n",
    "import seaborn as sns\n"
   ]
  },
  {
   "cell_type": "code",
   "execution_count": 47,
   "metadata": {
    "ExecuteTime": {
     "end_time": "2021-04-02T12:10:47.965661Z",
     "start_time": "2021-04-02T12:10:46.367753Z"
    }
   },
   "outputs": [
    {
     "data": {
      "text/plain": [
       "<matplotlib.axes._subplots.AxesSubplot at 0x21b73bc1908>"
      ]
     },
     "execution_count": 47,
     "metadata": {},
     "output_type": "execute_result"
    },
    {
     "data": {
      "image/png": "[encoded data removed]",
      "text/plain": [
       "<Figure size 864x864 with 2 Axes>"
      ]
     },
     "metadata": {
      "needs_background": "light"
     },
     "output_type": "display_data"
    }
   ],
   "source": [
    "cm=df.corr()\n",
    "plt.figure(figsize=(12,12))\n",
    "sns.heatmap(cm,annot=True)"
   ]
  },
  {
   "cell_type": "markdown",
   "metadata": {},
   "source": [
    "The heatmap shows the correlation between the various features and their various associated values."
   ]
  },
  {
   "cell_type": "code",
   "execution_count": 48,
   "metadata": {
    "ExecuteTime": {
     "end_time": "2021-04-02T12:10:50.903087Z",
     "start_time": "2021-04-02T12:10:47.967657Z"
    },
    "scrolled": true
   },
   "outputs": [
    {
     "data": {
      "text/plain": [
       "array([[<matplotlib.axes._subplots.AxesSubplot object at 0x0000021B74AD05F8>,\n",
       "        <matplotlib.axes._subplots.AxesSubplot object at 0x0000021B750B07B8>,\n",
       "        <matplotlib.axes._subplots.AxesSubplot object at 0x0000021B750D0DD8>,\n",
       "        <matplotlib.axes._subplots.AxesSubplot object at 0x0000021B74B024A8>],\n",
       "       [<matplotlib.axes._subplots.AxesSubplot object at 0x0000021B74B29B38>,\n",
       "        <matplotlib.axes._subplots.AxesSubplot object at 0x0000021B74B29B70>,\n",
       "        <matplotlib.axes._subplots.AxesSubplot object at 0x0000021B74B84898>,\n",
       "        <matplotlib.axes._subplots.AxesSubplot object at 0x0000021B74BACEB8>],\n",
       "       [<matplotlib.axes._subplots.AxesSubplot object at 0x0000021B74BDD588>,\n",
       "        <matplotlib.axes._subplots.AxesSubplot object at 0x0000021B74C06C18>,\n",
       "        <matplotlib.axes._subplots.AxesSubplot object at 0x0000021B74C382E8>,\n",
       "        <matplotlib.axes._subplots.AxesSubplot object at 0x0000021B74C60978>],\n",
       "       [<matplotlib.axes._subplots.AxesSubplot object at 0x0000021B74C92048>,\n",
       "        <matplotlib.axes._subplots.AxesSubplot object at 0x0000021B74CBA6D8>,\n",
       "        <matplotlib.axes._subplots.AxesSubplot object at 0x0000021B74CE2D68>,\n",
       "        <matplotlib.axes._subplots.AxesSubplot object at 0x0000021B74D14438>]],\n",
       "      dtype=object)"
      ]
     },
     "execution_count": 48,
     "metadata": {},
     "output_type": "execute_result"
    },
    {
     "data": {
      "image/png": "[encoded data removed]",
      "text/plain": [
       "<Figure size 1080x1080 with 16 Axes>"
      ]
     },
     "metadata": {
      "needs_background": "light"
     },
     "output_type": "display_data"
    }
   ],
   "source": [
    "df.hist(figsize=(15,15))"
   ]
  },
  {
   "cell_type": "markdown",
   "metadata": {},
   "source": [
    "From the graphs and the description of our data shown above,the mean and standard deviation for most of the features are high which would not help in making an accurate prediction."
   ]
  },
  {
   "cell_type": "code",
   "execution_count": 49,
   "metadata": {
    "ExecuteTime": {
     "end_time": "2021-04-02T12:10:50.929119Z",
     "start_time": "2021-04-02T12:10:50.905776Z"
    }
   },
   "outputs": [
    {
     "data": {
      "text/html": [
       "<div>\n",
       "<style scoped>\n",
       "    .dataframe tbody tr th:only-of-type {\n",
       "        vertical-align: middle;\n",
       "    }\n",
       "\n",
       "    .dataframe tbody tr th {\n",
       "        vertical-align: top;\n",
       "    }\n",
       "\n",
       "    .dataframe thead th {\n",
       "        text-align: right;\n",
       "    }\n",
       "</style>\n",
       "<table border=\"1\" class=\"dataframe\">\n",
       "  <thead>\n",
       "    <tr style=\"text-align: right;\">\n",
       "      <th></th>\n",
       "      <th>CRIM</th>\n",
       "      <th>ZN</th>\n",
       "      <th>INDUS</th>\n",
       "      <th>CHAS</th>\n",
       "      <th>NOX</th>\n",
       "      <th>RM</th>\n",
       "      <th>AGE</th>\n",
       "      <th>DIS</th>\n",
       "      <th>RAD</th>\n",
       "      <th>TAX</th>\n",
       "      <th>PTRATIO</th>\n",
       "      <th>B</th>\n",
       "      <th>LSTAT</th>\n",
       "    </tr>\n",
       "  </thead>\n",
       "  <tbody>\n",
       "    <tr>\n",
       "      <th>0</th>\n",
       "      <td>0.00632</td>\n",
       "      <td>18.0</td>\n",
       "      <td>2.31</td>\n",
       "      <td>0.0</td>\n",
       "      <td>0.538</td>\n",
       "      <td>6.575</td>\n",
       "      <td>65.2</td>\n",
       "      <td>4.0900</td>\n",
       "      <td>1.0</td>\n",
       "      <td>296.0</td>\n",
       "      <td>15.3</td>\n",
       "      <td>396.90</td>\n",
       "      <td>4.98</td>\n",
       "    </tr>\n",
       "    <tr>\n",
       "      <th>1</th>\n",
       "      <td>0.02731</td>\n",
       "      <td>0.0</td>\n",
       "      <td>7.07</td>\n",
       "      <td>0.0</td>\n",
       "      <td>0.469</td>\n",
       "      <td>6.421</td>\n",
       "      <td>78.9</td>\n",
       "      <td>4.9671</td>\n",
       "      <td>2.0</td>\n",
       "      <td>242.0</td>\n",
       "      <td>17.8</td>\n",
       "      <td>396.90</td>\n",
       "      <td>9.14</td>\n",
       "    </tr>\n",
       "    <tr>\n",
       "      <th>2</th>\n",
       "      <td>0.02729</td>\n",
       "      <td>0.0</td>\n",
       "      <td>7.07</td>\n",
       "      <td>0.0</td>\n",
       "      <td>0.469</td>\n",
       "      <td>7.185</td>\n",
       "      <td>61.1</td>\n",
       "      <td>4.9671</td>\n",
       "      <td>2.0</td>\n",
       "      <td>242.0</td>\n",
       "      <td>17.8</td>\n",
       "      <td>392.83</td>\n",
       "      <td>4.03</td>\n",
       "    </tr>\n",
       "    <tr>\n",
       "      <th>3</th>\n",
       "      <td>0.03237</td>\n",
       "      <td>0.0</td>\n",
       "      <td>2.18</td>\n",
       "      <td>0.0</td>\n",
       "      <td>0.458</td>\n",
       "      <td>6.998</td>\n",
       "      <td>45.8</td>\n",
       "      <td>6.0622</td>\n",
       "      <td>3.0</td>\n",
       "      <td>222.0</td>\n",
       "      <td>18.7</td>\n",
       "      <td>394.63</td>\n",
       "      <td>2.94</td>\n",
       "    </tr>\n",
       "    <tr>\n",
       "      <th>4</th>\n",
       "      <td>0.06905</td>\n",
       "      <td>0.0</td>\n",
       "      <td>2.18</td>\n",
       "      <td>0.0</td>\n",
       "      <td>0.458</td>\n",
       "      <td>7.147</td>\n",
       "      <td>54.2</td>\n",
       "      <td>6.0622</td>\n",
       "      <td>3.0</td>\n",
       "      <td>222.0</td>\n",
       "      <td>18.7</td>\n",
       "      <td>396.90</td>\n",
       "      <td>5.33</td>\n",
       "    </tr>\n",
       "  </tbody>\n",
       "</table>\n",
       "</div>"
      ],
      "text/plain": [
       "      CRIM    ZN  INDUS  CHAS    NOX     RM   AGE     DIS  RAD    TAX  \\\n",
       "0  0.00632  18.0   2.31   0.0  0.538  6.575  65.2  4.0900  1.0  296.0   \n",
       "1  0.02731   0.0   7.07   0.0  0.469  6.421  78.9  4.9671  2.0  242.0   \n",
       "2  0.02729   0.0   7.07   0.0  0.469  7.185  61.1  4.9671  2.0  242.0   \n",
       "3  0.03237   0.0   2.18   0.0  0.458  6.998  45.8  6.0622  3.0  222.0   \n",
       "4  0.06905   0.0   2.18   0.0  0.458  7.147  54.2  6.0622  3.0  222.0   \n",
       "\n",
       "   PTRATIO       B  LSTAT  \n",
       "0     15.3  396.90   4.98  \n",
       "1     17.8  396.90   9.14  \n",
       "2     17.8  392.83   4.03  \n",
       "3     18.7  394.63   2.94  \n",
       "4     18.7  396.90   5.33  "
      ]
     },
     "execution_count": 49,
     "metadata": {},
     "output_type": "execute_result"
    }
   ],
   "source": [
    "df.head()"
   ]
  },
  {
   "cell_type": "markdown",
   "metadata": {},
   "source": [
    "## Normalisation"
   ]
  },
  {
   "cell_type": "markdown",
   "metadata": {},
   "source": [
    "Due to the high mean and standard deviation obtained from the description of the dataset,we normalize our data."
   ]
  },
  {
   "cell_type": "code",
   "execution_count": 50,
   "metadata": {
    "ExecuteTime": {
     "end_time": "2021-04-02T12:10:51.127902Z",
     "start_time": "2021-04-02T12:10:50.933074Z"
    }
   },
   "outputs": [],
   "source": [
    "# Normalizing the data\n",
    "df=(df-np.mean(df))/np.std(df)"
   ]
  },
  {
   "cell_type": "code",
   "execution_count": 51,
   "metadata": {
    "ExecuteTime": {
     "end_time": "2021-04-02T12:10:51.699533Z",
     "start_time": "2021-04-02T12:10:51.134468Z"
    }
   },
   "outputs": [
    {
     "name": "stderr",
     "output_type": "stream",
     "text": [
      "C:\\Users\\Lenovo\\Anaconda3\\lib\\site-packages\\scipy\\stats\\stats.py:1713: FutureWarning: Using a non-tuple sequence for multidimensional indexing is deprecated; use `arr[tuple(seq)]` instead of `arr[seq]`. In the future this will be interpreted as an array index, `arr[np.array(seq)]`, which will result either in an error or a different result.\n",
      "  return np.add.reduce(sorted[indexer] * weights, axis=axis) / sumval\n"
     ]
    },
    {
     "data": {
      "text/plain": [
       "Text(0.5,1,'Dist Plot of Target')"
      ]
     },
     "execution_count": 51,
     "metadata": {},
     "output_type": "execute_result"
    },
    {
     "data": {
      "image/png": "[encoded data removed]",
      "text/plain": [
       "<Figure size 432x288 with 1 Axes>"
      ]
     },
     "metadata": {
      "needs_background": "light"
     },
     "output_type": "display_data"
    }
   ],
   "source": [
    "sns.distplot(Y)\n",
    "plt.title('Dist Plot of Target')"
   ]
  },
  {
   "cell_type": "code",
   "execution_count": 52,
   "metadata": {
    "ExecuteTime": {
     "end_time": "2021-04-02T12:10:51.722462Z",
     "start_time": "2021-04-02T12:10:51.703422Z"
    }
   },
   "outputs": [],
   "source": [
    "from sklearn.model_selection import train_test_split\n",
    "X_train,X_test,Y_train,Y_test=train_test_split(df,Y,test_size=0.2,random_state=0)"
   ]
  },
  {
   "cell_type": "markdown",
   "metadata": {},
   "source": [
    "## Model 1"
   ]
  },
  {
   "cell_type": "code",
   "execution_count": 53,
   "metadata": {
    "ExecuteTime": {
     "end_time": "2021-04-02T12:10:51.794999Z",
     "start_time": "2021-04-02T12:10:51.725724Z"
    }
   },
   "outputs": [],
   "source": [
    "import tensorflow as tf\n",
    "from tensorflow import keras\n",
    "from tensorflow.keras import layers\n"
   ]
  },
  {
   "cell_type": "code",
   "execution_count": 54,
   "metadata": {
    "ExecuteTime": {
     "end_time": "2021-04-02T12:10:52.028730Z",
     "start_time": "2021-04-02T12:10:51.800976Z"
    }
   },
   "outputs": [],
   "source": [
    "model=keras.Sequential([keras.layers.Dense(100,activation='tanh',input_shape=(X_train.shape[-1],)),\n",
    "                        keras.layers.Dense(50,activation='tanh'),\n",
    "                        keras.layers.Dropout(0.2),\n",
    "                        keras.layers.Dense(20,activation='tanh'),\n",
    "                        keras.layers.Dense(10,activation='tanh'),\n",
    "                        keras.layers.Dense(1,activation='linear')])"
   ]
  },
  {
   "cell_type": "code",
   "execution_count": 55,
   "metadata": {
    "ExecuteTime": {
     "end_time": "2021-04-02T12:10:52.048360Z",
     "start_time": "2021-04-02T12:10:52.033043Z"
    }
   },
   "outputs": [
    {
     "name": "stdout",
     "output_type": "stream",
     "text": [
      "Model: \"sequential_1\"\n",
      "_________________________________________________________________\n",
      "Layer (type)                 Output Shape              Param #   \n",
      "=================================================================\n",
      "dense_5 (Dense)              (None, 100)               1400      \n",
      "_________________________________________________________________\n",
      "dense_6 (Dense)              (None, 50)                5050      \n",
      "_________________________________________________________________\n",
      "dropout_1 (Dropout)          (None, 50)                0         \n",
      "_________________________________________________________________\n",
      "dense_7 (Dense)              (None, 20)                1020      \n",
      "_________________________________________________________________\n",
      "dense_8 (Dense)              (None, 10)                210       \n",
      "_________________________________________________________________\n",
      "dense_9 (Dense)              (None, 1)                 11        \n",
      "=================================================================\n",
      "Total params: 7,691\n",
      "Trainable params: 7,691\n",
      "Non-trainable params: 0\n",
      "_________________________________________________________________\n"
     ]
    }
   ],
   "source": [
    "model.summary()"
   ]
  },
  {
   "cell_type": "code",
   "execution_count": 56,
   "metadata": {
    "ExecuteTime": {
     "end_time": "2021-04-02T12:10:52.157858Z",
     "start_time": "2021-04-02T12:10:52.050903Z"
    }
   },
   "outputs": [],
   "source": [
    "model.compile(optimizer='adam',loss='mean_squared_error',metrics=['mae'])"
   ]
  },
  {
   "cell_type": "code",
   "execution_count": 57,
   "metadata": {
    "ExecuteTime": {
     "end_time": "2021-04-02T12:11:18.205835Z",
     "start_time": "2021-04-02T12:10:52.164236Z"
    }
   },
   "outputs": [
    {
     "name": "stdout",
     "output_type": "stream",
     "text": [
      "Epoch 1/200\n",
      "13/13 [==============================] - 1s 49ms/step - loss: 585.5348 - mae: 22.4775 - val_loss: 521.4199 - val_mae: 21.8021\n",
      "Epoch 2/200\n",
      "13/13 [==============================] - 0s 9ms/step - loss: 547.9443 - mae: 21.9199 - val_loss: 499.2245 - val_mae: 21.3128\n",
      "Epoch 3/200\n",
      "13/13 [==============================] - 0s 7ms/step - loss: 558.3110 - mae: 21.9936 - val_loss: 478.4227 - val_mae: 20.8206\n",
      "Epoch 4/200\n",
      "13/13 [==============================] - 0s 8ms/step - loss: 556.2865 - mae: 21.7863 - val_loss: 458.5359 - val_mae: 20.2963\n",
      "Epoch 5/200\n",
      "13/13 [==============================] - 0s 8ms/step - loss: 501.9219 - mae: 20.8041 - val_loss: 436.5493 - val_mae: 19.6715\n",
      "Epoch 6/200\n",
      "13/13 [==============================] - 0s 8ms/step - loss: 480.8870 - mae: 20.0854 - val_loss: 418.2497 - val_mae: 19.1840\n",
      "Epoch 7/200\n",
      "13/13 [==============================] - 0s 7ms/step - loss: 453.8996 - mae: 19.4732 - val_loss: 404.9929 - val_mae: 18.7999\n",
      "Epoch 8/200\n",
      "13/13 [==============================] - 0s 7ms/step - loss: 441.0202 - mae: 19.1313 - val_loss: 392.4163 - val_mae: 18.4148\n",
      "Epoch 9/200\n",
      "13/13 [==============================] - 0s 8ms/step - loss: 404.2799 - mae: 18.1383 - val_loss: 380.1132 - val_mae: 18.0274\n",
      "Epoch 10/200\n",
      "13/13 [==============================] - 0s 13ms/step - loss: 421.6780 - mae: 18.1917 - val_loss: 371.1310 - val_mae: 17.7607\n",
      "Epoch 11/200\n",
      "13/13 [==============================] - 0s 9ms/step - loss: 401.7819 - mae: 17.7583 - val_loss: 363.6613 - val_mae: 17.5399\n",
      "Epoch 12/200\n",
      "13/13 [==============================] - 0s 7ms/step - loss: 407.6141 - mae: 17.6598 - val_loss: 356.8991 - val_mae: 17.3412\n",
      "Epoch 13/200\n",
      "13/13 [==============================] - 0s 14ms/step - loss: 383.9036 - mae: 17.1232 - val_loss: 350.6701 - val_mae: 17.1568\n",
      "Epoch 14/200\n",
      "13/13 [==============================] - 0s 8ms/step - loss: 416.2425 - mae: 17.9713 - val_loss: 344.7039 - val_mae: 16.9807\n",
      "Epoch 15/200\n",
      "13/13 [==============================] - 0s 9ms/step - loss: 347.4874 - mae: 16.3163 - val_loss: 339.2238 - val_mae: 16.8175\n",
      "Epoch 16/200\n",
      "13/13 [==============================] - 0s 12ms/step - loss: 370.1239 - mae: 16.7126 - val_loss: 333.8049 - val_mae: 16.6553\n",
      "Epoch 17/200\n",
      "13/13 [==============================] - 0s 10ms/step - loss: 355.3670 - mae: 16.3534 - val_loss: 328.5901 - val_mae: 16.4979\n",
      "Epoch 18/200\n",
      "13/13 [==============================] - 0s 8ms/step - loss: 373.8894 - mae: 16.9180 - val_loss: 323.4811 - val_mae: 16.3421\n",
      "Epoch 19/200\n",
      "13/13 [==============================] - 0s 11ms/step - loss: 325.1179 - mae: 15.7605 - val_loss: 318.5824 - val_mae: 16.1914\n",
      "Epoch 20/200\n",
      "13/13 [==============================] - 0s 12ms/step - loss: 348.1362 - mae: 16.2237 - val_loss: 313.4384 - val_mae: 16.0317\n",
      "Epoch 21/200\n",
      "13/13 [==============================] - 0s 6ms/step - loss: 331.4200 - mae: 15.7665 - val_loss: 308.6141 - val_mae: 15.8805\n",
      "Epoch 22/200\n",
      "13/13 [==============================] - 0s 11ms/step - loss: 358.4505 - mae: 16.3602 - val_loss: 303.7582 - val_mae: 15.7268\n",
      "Epoch 23/200\n",
      "13/13 [==============================] - 0s 14ms/step - loss: 321.7637 - mae: 15.4042 - val_loss: 299.2877 - val_mae: 15.5871\n",
      "Epoch 24/200\n",
      "13/13 [==============================] - 0s 10ms/step - loss: 357.0020 - mae: 16.0223 - val_loss: 294.8185 - val_mae: 15.4500\n",
      "Epoch 25/200\n",
      "13/13 [==============================] - 0s 12ms/step - loss: 315.0635 - mae: 15.2280 - val_loss: 290.4214 - val_mae: 15.3138\n",
      "Epoch 26/200\n",
      "13/13 [==============================] - 0s 9ms/step - loss: 330.1840 - mae: 15.3874 - val_loss: 286.1632 - val_mae: 15.1807\n",
      "Epoch 27/200\n",
      "13/13 [==============================] - 0s 12ms/step - loss: 321.2117 - mae: 15.2829 - val_loss: 281.9383 - val_mae: 15.0475\n",
      "Epoch 28/200\n",
      "13/13 [==============================] - 0s 10ms/step - loss: 312.7176 - mae: 15.0455 - val_loss: 277.8261 - val_mae: 14.9167\n",
      "Epoch 29/200\n",
      "13/13 [==============================] - 0s 8ms/step - loss: 305.2662 - mae: 14.8203 - val_loss: 273.7006 - val_mae: 14.7841\n",
      "Epoch 30/200\n",
      "13/13 [==============================] - 0s 9ms/step - loss: 302.0777 - mae: 14.8543 - val_loss: 269.5518 - val_mae: 14.6496\n",
      "Epoch 31/200\n",
      "13/13 [==============================] - 0s 12ms/step - loss: 275.0415 - mae: 14.1289 - val_loss: 265.6240 - val_mae: 14.5210\n",
      "Epoch 32/200\n",
      "13/13 [==============================] - 0s 10ms/step - loss: 276.7537 - mae: 13.8972 - val_loss: 261.7059 - val_mae: 14.3916\n",
      "Epoch 33/200\n",
      "13/13 [==============================] - 0s 10ms/step - loss: 302.6883 - mae: 14.5440 - val_loss: 257.8273 - val_mae: 14.2622\n",
      "Epoch 34/200\n",
      "13/13 [==============================] - 0s 9ms/step - loss: 288.5802 - mae: 14.1494 - val_loss: 254.0145 - val_mae: 14.1376\n",
      "Epoch 35/200\n",
      "13/13 [==============================] - 0s 9ms/step - loss: 284.9412 - mae: 14.1929 - val_loss: 250.2057 - val_mae: 14.0148\n",
      "Epoch 36/200\n",
      "13/13 [==============================] - 0s 10ms/step - loss: 274.4939 - mae: 13.8225 - val_loss: 246.5358 - val_mae: 13.8952\n",
      "Epoch 37/200\n",
      "13/13 [==============================] - 0s 11ms/step - loss: 270.4540 - mae: 13.6196 - val_loss: 242.9651 - val_mae: 13.7777\n",
      "Epoch 38/200\n",
      "13/13 [==============================] - 0s 10ms/step - loss: 277.9826 - mae: 13.9925 - val_loss: 239.4613 - val_mae: 13.6615\n",
      "Epoch 39/200\n",
      "13/13 [==============================] - 0s 11ms/step - loss: 278.7861 - mae: 13.8228 - val_loss: 236.0863 - val_mae: 13.5484\n",
      "Epoch 40/200\n",
      "13/13 [==============================] - 0s 11ms/step - loss: 267.3939 - mae: 13.5145 - val_loss: 232.7065 - val_mae: 13.4340\n",
      "Epoch 41/200\n",
      "13/13 [==============================] - 0s 11ms/step - loss: 279.6524 - mae: 13.7864 - val_loss: 229.4084 - val_mae: 13.3214\n",
      "Epoch 42/200\n",
      "13/13 [==============================] - 0s 8ms/step - loss: 256.0045 - mae: 13.3187 - val_loss: 226.1963 - val_mae: 13.2106\n",
      "Epoch 43/200\n",
      "13/13 [==============================] - 0s 18ms/step - loss: 276.1162 - mae: 13.6819 - val_loss: 222.9793 - val_mae: 13.0985\n",
      "Epoch 44/200\n",
      "13/13 [==============================] - 0s 8ms/step - loss: 275.2306 - mae: 13.4557 - val_loss: 219.7700 - val_mae: 12.9856\n",
      "Epoch 45/200\n",
      "13/13 [==============================] - 0s 9ms/step - loss: 237.3704 - mae: 12.7463 - val_loss: 216.7657 - val_mae: 12.8789\n",
      "Epoch 46/200\n",
      "13/13 [==============================] - 0s 14ms/step - loss: 238.7389 - mae: 12.5245 - val_loss: 213.7222 - val_mae: 12.7699\n",
      "Epoch 47/200\n",
      "13/13 [==============================] - 0s 9ms/step - loss: 241.1994 - mae: 12.7567 - val_loss: 210.7271 - val_mae: 12.6616\n",
      "Epoch 48/200\n",
      "13/13 [==============================] - 0s 9ms/step - loss: 229.4042 - mae: 12.3661 - val_loss: 207.8614 - val_mae: 12.5566\n",
      "Epoch 49/200\n",
      "13/13 [==============================] - 0s 7ms/step - loss: 252.1912 - mae: 12.8551 - val_loss: 204.8490 - val_mae: 12.4452\n",
      "Epoch 50/200\n",
      "13/13 [==============================] - 0s 6ms/step - loss: 229.1671 - mae: 12.4138 - val_loss: 201.9115 - val_mae: 12.3313\n",
      "Epoch 51/200\n",
      "13/13 [==============================] - 0s 8ms/step - loss: 233.3571 - mae: 12.3523 - val_loss: 199.0864 - val_mae: 12.2304\n",
      "Epoch 52/200\n",
      "13/13 [==============================] - 0s 18ms/step - loss: 217.6484 - mae: 12.0942 - val_loss: 196.1648 - val_mae: 12.1196\n",
      "Epoch 53/200\n",
      "13/13 [==============================] - 0s 10ms/step - loss: 230.5542 - mae: 12.2725 - val_loss: 193.1493 - val_mae: 12.0038\n",
      "Epoch 54/200\n",
      "13/13 [==============================] - 0s 9ms/step - loss: 212.9120 - mae: 11.8126 - val_loss: 190.3988 - val_mae: 11.8967\n",
      "Epoch 55/200\n",
      "13/13 [==============================] - 0s 11ms/step - loss: 199.4209 - mae: 11.3249 - val_loss: 187.6939 - val_mae: 11.7883\n",
      "Epoch 56/200\n",
      "13/13 [==============================] - 0s 8ms/step - loss: 214.4470 - mae: 11.4397 - val_loss: 185.0636 - val_mae: 11.6771\n",
      "Epoch 57/200\n",
      "13/13 [==============================] - 0s 14ms/step - loss: 225.4403 - mae: 11.9658 - val_loss: 182.4875 - val_mae: 11.5709\n",
      "Epoch 58/200\n",
      "13/13 [==============================] - 0s 16ms/step - loss: 214.1394 - mae: 11.5085 - val_loss: 180.0006 - val_mae: 11.4839\n",
      "Epoch 59/200\n",
      "13/13 [==============================] - 0s 11ms/step - loss: 213.2911 - mae: 11.4890 - val_loss: 177.4529 - val_mae: 11.3800\n",
      "Epoch 60/200\n",
      "13/13 [==============================] - 0s 11ms/step - loss: 194.9579 - mae: 11.0618 - val_loss: 175.0067 - val_mae: 11.2791\n",
      "Epoch 61/200\n",
      "13/13 [==============================] - 0s 9ms/step - loss: 196.3220 - mae: 10.9276 - val_loss: 172.4358 - val_mae: 11.1719\n",
      "Epoch 62/200\n",
      "13/13 [==============================] - 0s 12ms/step - loss: 201.8806 - mae: 11.1537 - val_loss: 170.0463 - val_mae: 11.0711\n",
      "Epoch 63/200\n",
      "13/13 [==============================] - 0s 9ms/step - loss: 203.9883 - mae: 11.0302 - val_loss: 167.7221 - val_mae: 10.9719\n",
      "Epoch 64/200\n",
      "13/13 [==============================] - 0s 8ms/step - loss: 177.4676 - mae: 10.3966 - val_loss: 165.2072 - val_mae: 10.7973\n",
      "Epoch 65/200\n",
      "13/13 [==============================] - 0s 11ms/step - loss: 182.6195 - mae: 10.4965 - val_loss: 162.9875 - val_mae: 10.7232\n",
      "Epoch 66/200\n",
      "13/13 [==============================] - 0s 11ms/step - loss: 189.7824 - mae: 10.6634 - val_loss: 160.7874 - val_mae: 10.6436\n",
      "Epoch 67/200\n",
      "13/13 [==============================] - 0s 10ms/step - loss: 199.3578 - mae: 10.9956 - val_loss: 158.6163 - val_mae: 10.5534\n",
      "Epoch 68/200\n",
      "13/13 [==============================] - 0s 14ms/step - loss: 191.1697 - mae: 10.5942 - val_loss: 156.2213 - val_mae: 10.4066\n",
      "Epoch 69/200\n",
      "13/13 [==============================] - 0s 9ms/step - loss: 191.3311 - mae: 10.5694 - val_loss: 154.0276 - val_mae: 10.3082\n",
      "Epoch 70/200\n",
      "13/13 [==============================] - 0s 15ms/step - loss: 157.8358 - mae: 9.5025 - val_loss: 151.9187 - val_mae: 10.2533\n",
      "Epoch 71/200\n",
      "13/13 [==============================] - 0s 10ms/step - loss: 208.1082 - mae: 11.1283 - val_loss: 149.5089 - val_mae: 10.0996\n",
      "Epoch 72/200\n",
      "13/13 [==============================] - 0s 8ms/step - loss: 149.3890 - mae: 9.2564 - val_loss: 147.5209 - val_mae: 10.0523\n",
      "Epoch 73/200\n",
      "13/13 [==============================] - 0s 10ms/step - loss: 164.6497 - mae: 9.6443 - val_loss: 145.2690 - val_mae: 9.9135\n",
      "Epoch 74/200\n",
      "13/13 [==============================] - 0s 16ms/step - loss: 169.2306 - mae: 10.0168 - val_loss: 143.2563 - val_mae: 9.8434\n",
      "Epoch 75/200\n",
      "13/13 [==============================] - 0s 8ms/step - loss: 173.9205 - mae: 9.8587 - val_loss: 141.3004 - val_mae: 9.7706\n",
      "Epoch 76/200\n",
      "13/13 [==============================] - 0s 15ms/step - loss: 180.6732 - mae: 10.0661 - val_loss: 139.3158 - val_mae: 9.6728\n",
      "Epoch 77/200\n",
      "13/13 [==============================] - 0s 10ms/step - loss: 165.1832 - mae: 9.6295 - val_loss: 137.3275 - val_mae: 9.5760\n",
      "Epoch 78/200\n",
      "13/13 [==============================] - 0s 10ms/step - loss: 171.6849 - mae: 9.8207 - val_loss: 135.3969 - val_mae: 9.4892\n",
      "Epoch 79/200\n",
      "13/13 [==============================] - 0s 15ms/step - loss: 154.7480 - mae: 9.3563 - val_loss: 133.4613 - val_mae: 9.3778\n",
      "Epoch 80/200\n",
      "13/13 [==============================] - 0s 10ms/step - loss: 158.6340 - mae: 9.5237 - val_loss: 131.5243 - val_mae: 9.2548\n",
      "Epoch 81/200\n",
      "13/13 [==============================] - 0s 10ms/step - loss: 151.4554 - mae: 9.1683 - val_loss: 129.8405 - val_mae: 9.2039\n",
      "Epoch 82/200\n",
      "13/13 [==============================] - 0s 10ms/step - loss: 155.9340 - mae: 9.3512 - val_loss: 128.1006 - val_mae: 9.1248\n",
      "Epoch 83/200\n",
      "13/13 [==============================] - 0s 12ms/step - loss: 169.7696 - mae: 9.7344 - val_loss: 126.3495 - val_mae: 9.0320\n",
      "Epoch 84/200\n",
      "13/13 [==============================] - 0s 10ms/step - loss: 177.8180 - mae: 9.7657 - val_loss: 124.7197 - val_mae: 8.9712\n",
      "Epoch 85/200\n",
      "13/13 [==============================] - 0s 12ms/step - loss: 146.5610 - mae: 8.9952 - val_loss: 123.0033 - val_mae: 8.8880\n",
      "Epoch 86/200\n",
      "13/13 [==============================] - 0s 11ms/step - loss: 149.4551 - mae: 8.9532 - val_loss: 121.3349 - val_mae: 8.8092\n",
      "Epoch 87/200\n",
      "13/13 [==============================] - 0s 22ms/step - loss: 142.6076 - mae: 8.7415 - val_loss: 119.7875 - val_mae: 8.7625\n",
      "Epoch 88/200\n",
      "13/13 [==============================] - 0s 8ms/step - loss: 135.5203 - mae: 8.4926 - val_loss: 118.1684 - val_mae: 8.6589\n",
      "Epoch 89/200\n",
      "13/13 [==============================] - 0s 11ms/step - loss: 137.1294 - mae: 8.2706 - val_loss: 116.5102 - val_mae: 8.5665\n",
      "Epoch 90/200\n",
      "13/13 [==============================] - 0s 14ms/step - loss: 118.8207 - mae: 7.9309 - val_loss: 114.9847 - val_mae: 8.4942\n",
      "Epoch 91/200\n",
      "13/13 [==============================] - 0s 11ms/step - loss: 149.5489 - mae: 8.7841 - val_loss: 113.3783 - val_mae: 8.4136\n",
      "Epoch 92/200\n",
      "13/13 [==============================] - 0s 12ms/step - loss: 151.3710 - mae: 9.0794 - val_loss: 112.0276 - val_mae: 8.3969\n",
      "Epoch 93/200\n",
      "13/13 [==============================] - 0s 17ms/step - loss: 147.3873 - mae: 8.7096 - val_loss: 110.5653 - val_mae: 8.3081\n",
      "Epoch 94/200\n",
      "13/13 [==============================] - 0s 9ms/step - loss: 143.3277 - mae: 8.6997 - val_loss: 109.0181 - val_mae: 8.2255\n",
      "Epoch 95/200\n",
      "13/13 [==============================] - 0s 7ms/step - loss: 137.1953 - mae: 8.4025 - val_loss: 107.6543 - val_mae: 8.1424\n",
      "Epoch 96/200\n",
      "13/13 [==============================] - 0s 9ms/step - loss: 119.4645 - mae: 7.6609 - val_loss: 106.3546 - val_mae: 8.0877\n",
      "Epoch 97/200\n",
      "13/13 [==============================] - 0s 8ms/step - loss: 143.0747 - mae: 8.4464 - val_loss: 104.8364 - val_mae: 7.9813\n",
      "Epoch 98/200\n",
      "13/13 [==============================] - 0s 14ms/step - loss: 140.1790 - mae: 8.4835 - val_loss: 103.4317 - val_mae: 7.8922\n",
      "Epoch 99/200\n",
      "13/13 [==============================] - 0s 9ms/step - loss: 134.5665 - mae: 8.0199 - val_loss: 102.0787 - val_mae: 7.8327\n",
      "Epoch 100/200\n",
      "13/13 [==============================] - 0s 14ms/step - loss: 118.5917 - mae: 7.7093 - val_loss: 100.8581 - val_mae: 7.7936\n",
      "Epoch 101/200\n",
      "13/13 [==============================] - 0s 10ms/step - loss: 127.9660 - mae: 7.9212 - val_loss: 99.4688 - val_mae: 7.7003\n",
      "Epoch 102/200\n",
      "13/13 [==============================] - 0s 15ms/step - loss: 136.8685 - mae: 8.1406 - val_loss: 98.0044 - val_mae: 7.5957\n",
      "Epoch 103/200\n",
      "13/13 [==============================] - 0s 7ms/step - loss: 127.4543 - mae: 7.9152 - val_loss: 96.6892 - val_mae: 7.5062\n",
      "Epoch 104/200\n",
      "13/13 [==============================] - 0s 4ms/step - loss: 125.8965 - mae: 7.9450 - val_loss: 95.5972 - val_mae: 7.4852\n",
      "Epoch 105/200\n",
      "13/13 [==============================] - 0s 4ms/step - loss: 131.2151 - mae: 7.9694 - val_loss: 94.2958 - val_mae: 7.4269\n",
      "Epoch 106/200\n",
      "13/13 [==============================] - 0s 4ms/step - loss: 120.8772 - mae: 7.7798 - val_loss: 92.7546 - val_mae: 7.2986\n",
      "Epoch 107/200\n",
      "13/13 [==============================] - 0s 4ms/step - loss: 117.5085 - mae: 7.5779 - val_loss: 91.5103 - val_mae: 7.1942\n",
      "Epoch 108/200\n",
      "13/13 [==============================] - 0s 5ms/step - loss: 122.7354 - mae: 7.9014 - val_loss: 90.4795 - val_mae: 7.1573\n",
      "Epoch 109/200\n",
      "13/13 [==============================] - 0s 4ms/step - loss: 113.2059 - mae: 7.4837 - val_loss: 88.8942 - val_mae: 7.0319\n",
      "Epoch 110/200\n",
      "13/13 [==============================] - 0s 4ms/step - loss: 116.4209 - mae: 7.3762 - val_loss: 87.6217 - val_mae: 6.9740\n",
      "Epoch 111/200\n",
      "13/13 [==============================] - 0s 4ms/step - loss: 110.4002 - mae: 7.2619 - val_loss: 86.3151 - val_mae: 6.8802\n",
      "Epoch 112/200\n",
      "13/13 [==============================] - 0s 4ms/step - loss: 107.7779 - mae: 6.9617 - val_loss: 85.2387 - val_mae: 6.8049\n",
      "Epoch 113/200\n",
      "13/13 [==============================] - 0s 4ms/step - loss: 132.5490 - mae: 7.6756 - val_loss: 84.1350 - val_mae: 6.7332\n",
      "Epoch 114/200\n",
      "13/13 [==============================] - 0s 5ms/step - loss: 105.9432 - mae: 6.9788 - val_loss: 83.1943 - val_mae: 6.7037\n",
      "Epoch 115/200\n",
      "13/13 [==============================] - 0s 5ms/step - loss: 116.8241 - mae: 7.2713 - val_loss: 81.8644 - val_mae: 6.5850\n",
      "Epoch 116/200\n",
      "13/13 [==============================] - 0s 4ms/step - loss: 112.7744 - mae: 7.0101 - val_loss: 81.0268 - val_mae: 6.5952\n",
      "Epoch 117/200\n",
      "13/13 [==============================] - 0s 5ms/step - loss: 114.2387 - mae: 7.3026 - val_loss: 79.6995 - val_mae: 6.4659\n",
      "Epoch 118/200\n",
      "13/13 [==============================] - 0s 4ms/step - loss: 110.0216 - mae: 7.0229 - val_loss: 78.6373 - val_mae: 6.3946\n",
      "Epoch 119/200\n",
      "13/13 [==============================] - 0s 5ms/step - loss: 106.7793 - mae: 6.9475 - val_loss: 77.7171 - val_mae: 6.3755\n"
     ]
    },
    {
     "name": "stdout",
     "output_type": "stream",
     "text": [
      "Epoch 120/200\n",
      "13/13 [==============================] - 0s 4ms/step - loss: 98.2015 - mae: 6.6506 - val_loss: 76.8739 - val_mae: 6.3021\n",
      "Epoch 121/200\n",
      "13/13 [==============================] - 0s 6ms/step - loss: 118.3173 - mae: 7.2083 - val_loss: 75.7007 - val_mae: 6.2163\n",
      "Epoch 122/200\n",
      "13/13 [==============================] - 0s 6ms/step - loss: 107.7514 - mae: 6.9173 - val_loss: 74.6298 - val_mae: 6.1194\n",
      "Epoch 123/200\n",
      "13/13 [==============================] - 0s 9ms/step - loss: 89.8368 - mae: 6.2750 - val_loss: 74.0558 - val_mae: 6.1064\n",
      "Epoch 124/200\n",
      "13/13 [==============================] - 0s 15ms/step - loss: 94.0691 - mae: 6.3461 - val_loss: 72.7559 - val_mae: 6.0021\n",
      "Epoch 125/200\n",
      "13/13 [==============================] - 0s 18ms/step - loss: 118.4531 - mae: 7.2091 - val_loss: 71.9480 - val_mae: 5.9279\n",
      "Epoch 126/200\n",
      "13/13 [==============================] - 0s 9ms/step - loss: 97.7909 - mae: 6.5454 - val_loss: 70.9202 - val_mae: 5.8786\n",
      "Epoch 127/200\n",
      "13/13 [==============================] - 0s 14ms/step - loss: 97.7820 - mae: 6.5902 - val_loss: 70.5146 - val_mae: 5.8601\n",
      "Epoch 128/200\n",
      "13/13 [==============================] - 0s 10ms/step - loss: 117.5161 - mae: 7.0879 - val_loss: 68.9439 - val_mae: 5.7379\n",
      "Epoch 129/200\n",
      "13/13 [==============================] - 0s 10ms/step - loss: 90.9618 - mae: 6.1431 - val_loss: 68.5884 - val_mae: 5.7169\n",
      "Epoch 130/200\n",
      "13/13 [==============================] - 0s 21ms/step - loss: 102.9383 - mae: 6.8323 - val_loss: 67.0301 - val_mae: 5.6081\n",
      "Epoch 131/200\n",
      "13/13 [==============================] - 0s 10ms/step - loss: 89.1502 - mae: 5.9330 - val_loss: 65.8784 - val_mae: 5.4930\n",
      "Epoch 132/200\n",
      "13/13 [==============================] - 0s 9ms/step - loss: 90.2434 - mae: 6.0083 - val_loss: 65.2863 - val_mae: 5.4732\n",
      "Epoch 133/200\n",
      "13/13 [==============================] - 0s 9ms/step - loss: 104.1924 - mae: 6.4715 - val_loss: 64.7279 - val_mae: 5.4254\n",
      "Epoch 134/200\n",
      "13/13 [==============================] - 0s 9ms/step - loss: 91.5821 - mae: 6.0705 - val_loss: 63.5306 - val_mae: 5.3642\n",
      "Epoch 135/200\n",
      "13/13 [==============================] - 0s 9ms/step - loss: 96.4639 - mae: 6.1409 - val_loss: 63.0592 - val_mae: 5.3118\n",
      "Epoch 136/200\n",
      "13/13 [==============================] - 0s 11ms/step - loss: 96.4876 - mae: 6.1703 - val_loss: 61.9425 - val_mae: 5.2397\n",
      "Epoch 137/200\n",
      "13/13 [==============================] - 0s 10ms/step - loss: 93.7269 - mae: 6.1829 - val_loss: 61.6035 - val_mae: 5.2206\n",
      "Epoch 138/200\n",
      "13/13 [==============================] - 0s 9ms/step - loss: 93.0138 - mae: 5.8685 - val_loss: 60.5034 - val_mae: 5.1703\n",
      "Epoch 139/200\n",
      "13/13 [==============================] - 0s 10ms/step - loss: 88.2772 - mae: 5.7975 - val_loss: 60.2003 - val_mae: 5.1230\n",
      "Epoch 140/200\n",
      "13/13 [==============================] - 0s 10ms/step - loss: 81.3670 - mae: 5.6983 - val_loss: 59.5330 - val_mae: 5.0808\n",
      "Epoch 141/200\n",
      "13/13 [==============================] - 0s 11ms/step - loss: 91.6763 - mae: 6.0224 - val_loss: 58.6720 - val_mae: 5.0298\n",
      "Epoch 142/200\n",
      "13/13 [==============================] - 0s 10ms/step - loss: 87.4523 - mae: 5.7577 - val_loss: 57.8863 - val_mae: 4.9772\n",
      "Epoch 143/200\n",
      "13/13 [==============================] - 0s 10ms/step - loss: 84.8971 - mae: 5.6194 - val_loss: 58.2230 - val_mae: 5.0800\n",
      "Epoch 144/200\n",
      "13/13 [==============================] - 0s 8ms/step - loss: 76.9202 - mae: 5.4952 - val_loss: 56.4127 - val_mae: 4.9001\n",
      "Epoch 145/200\n",
      "13/13 [==============================] - 0s 10ms/step - loss: 84.1940 - mae: 5.6367 - val_loss: 56.2913 - val_mae: 4.8971\n",
      "Epoch 146/200\n",
      "13/13 [==============================] - 0s 9ms/step - loss: 88.2280 - mae: 5.8385 - val_loss: 55.2579 - val_mae: 4.7867\n",
      "Epoch 147/200\n",
      "13/13 [==============================] - 0s 9ms/step - loss: 75.8511 - mae: 5.3069 - val_loss: 54.8879 - val_mae: 4.7843\n",
      "Epoch 148/200\n",
      "13/13 [==============================] - 0s 10ms/step - loss: 91.5960 - mae: 5.9151 - val_loss: 54.4006 - val_mae: 4.7628\n",
      "Epoch 149/200\n",
      "13/13 [==============================] - 0s 10ms/step - loss: 83.1719 - mae: 5.5365 - val_loss: 53.7150 - val_mae: 4.6970\n",
      "Epoch 150/200\n",
      "13/13 [==============================] - 0s 9ms/step - loss: 78.8332 - mae: 5.5511 - val_loss: 52.8775 - val_mae: 4.6626\n",
      "Epoch 151/200\n",
      "13/13 [==============================] - 0s 10ms/step - loss: 76.6179 - mae: 5.2566 - val_loss: 52.5082 - val_mae: 4.6285\n",
      "Epoch 152/200\n",
      "13/13 [==============================] - 0s 10ms/step - loss: 82.8209 - mae: 5.5537 - val_loss: 51.7223 - val_mae: 4.6139\n",
      "Epoch 153/200\n",
      "13/13 [==============================] - 0s 12ms/step - loss: 75.9169 - mae: 5.2683 - val_loss: 51.5303 - val_mae: 4.5792\n",
      "Epoch 154/200\n",
      "13/13 [==============================] - 0s 8ms/step - loss: 72.5381 - mae: 5.0817 - val_loss: 50.7897 - val_mae: 4.5470\n",
      "Epoch 155/200\n",
      "13/13 [==============================] - 0s 8ms/step - loss: 69.0153 - mae: 5.1800 - val_loss: 51.3940 - val_mae: 4.6132\n",
      "Epoch 156/200\n",
      "13/13 [==============================] - 0s 9ms/step - loss: 60.6799 - mae: 4.8791 - val_loss: 50.4349 - val_mae: 4.5459\n",
      "Epoch 157/200\n",
      "13/13 [==============================] - 0s 8ms/step - loss: 70.7163 - mae: 5.2098 - val_loss: 49.5754 - val_mae: 4.4756\n",
      "Epoch 158/200\n",
      "13/13 [==============================] - 0s 9ms/step - loss: 69.9451 - mae: 5.0341 - val_loss: 48.8099 - val_mae: 4.4195\n",
      "Epoch 159/200\n",
      "13/13 [==============================] - 0s 21ms/step - loss: 77.6149 - mae: 5.2733 - val_loss: 48.4747 - val_mae: 4.3797\n",
      "Epoch 160/200\n",
      "13/13 [==============================] - 0s 11ms/step - loss: 73.2327 - mae: 5.1099 - val_loss: 47.8152 - val_mae: 4.3153\n",
      "Epoch 161/200\n",
      "13/13 [==============================] - 0s 11ms/step - loss: 81.5469 - mae: 5.3950 - val_loss: 47.4488 - val_mae: 4.3256\n",
      "Epoch 162/200\n",
      "13/13 [==============================] - 0s 10ms/step - loss: 68.6296 - mae: 4.8215 - val_loss: 46.8431 - val_mae: 4.2802\n",
      "Epoch 163/200\n",
      "13/13 [==============================] - 0s 9ms/step - loss: 69.9983 - mae: 4.9548 - val_loss: 46.3992 - val_mae: 4.2618\n",
      "Epoch 164/200\n",
      "13/13 [==============================] - 0s 12ms/step - loss: 66.8311 - mae: 4.9027 - val_loss: 46.2437 - val_mae: 4.2255\n",
      "Epoch 165/200\n",
      "13/13 [==============================] - 0s 9ms/step - loss: 77.9852 - mae: 5.2756 - val_loss: 45.3821 - val_mae: 4.1757\n",
      "Epoch 166/200\n",
      "13/13 [==============================] - 0s 11ms/step - loss: 87.1202 - mae: 5.7747 - val_loss: 44.9233 - val_mae: 4.1151\n",
      "Epoch 167/200\n",
      "13/13 [==============================] - 0s 10ms/step - loss: 72.0970 - mae: 5.0077 - val_loss: 44.4144 - val_mae: 4.0636\n",
      "Epoch 168/200\n",
      "13/13 [==============================] - 0s 14ms/step - loss: 73.8863 - mae: 5.0881 - val_loss: 44.1852 - val_mae: 4.0497\n",
      "Epoch 169/200\n",
      "13/13 [==============================] - 0s 10ms/step - loss: 66.3976 - mae: 4.8651 - val_loss: 43.6179 - val_mae: 4.0229\n",
      "Epoch 170/200\n",
      "13/13 [==============================] - 0s 9ms/step - loss: 63.8607 - mae: 4.8351 - val_loss: 43.3162 - val_mae: 4.0111\n",
      "Epoch 171/200\n",
      "13/13 [==============================] - 0s 9ms/step - loss: 79.4742 - mae: 5.2229 - val_loss: 42.9605 - val_mae: 3.9847\n",
      "Epoch 172/200\n",
      "13/13 [==============================] - 0s 16ms/step - loss: 56.9858 - mae: 4.3922 - val_loss: 42.7082 - val_mae: 3.9588\n",
      "Epoch 173/200\n",
      "13/13 [==============================] - 0s 7ms/step - loss: 59.0247 - mae: 4.4780 - val_loss: 42.4087 - val_mae: 3.9562\n",
      "Epoch 174/200\n",
      "13/13 [==============================] - 0s 26ms/step - loss: 61.7658 - mae: 4.5938 - val_loss: 41.7827 - val_mae: 3.9121\n",
      "Epoch 175/200\n",
      "13/13 [==============================] - 0s 10ms/step - loss: 53.7800 - mae: 4.2623 - val_loss: 41.3140 - val_mae: 3.8501\n",
      "Epoch 176/200\n",
      "13/13 [==============================] - 0s 9ms/step - loss: 62.4257 - mae: 4.6819 - val_loss: 41.3738 - val_mae: 3.9053\n",
      "Epoch 177/200\n",
      "13/13 [==============================] - 0s 18ms/step - loss: 67.7163 - mae: 4.8278 - val_loss: 41.2238 - val_mae: 3.8947\n",
      "Epoch 178/200\n",
      "13/13 [==============================] - 0s 9ms/step - loss: 72.0290 - mae: 5.0470 - val_loss: 40.4021 - val_mae: 3.8085\n",
      "Epoch 179/200\n",
      "13/13 [==============================] - 0s 10ms/step - loss: 66.5910 - mae: 4.7902 - val_loss: 40.2099 - val_mae: 3.7732\n",
      "Epoch 180/200\n",
      "13/13 [==============================] - 0s 10ms/step - loss: 60.8024 - mae: 4.5341 - val_loss: 39.7918 - val_mae: 3.7391\n",
      "Epoch 181/200\n",
      "13/13 [==============================] - 0s 9ms/step - loss: 61.5749 - mae: 4.6651 - val_loss: 39.7176 - val_mae: 3.7410\n",
      "Epoch 182/200\n",
      "13/13 [==============================] - 0s 10ms/step - loss: 53.1489 - mae: 4.3478 - val_loss: 39.5410 - val_mae: 3.7586\n",
      "Epoch 183/200\n",
      "13/13 [==============================] - 0s 10ms/step - loss: 48.9457 - mae: 4.0197 - val_loss: 39.0138 - val_mae: 3.7063\n",
      "Epoch 184/200\n",
      "13/13 [==============================] - 0s 10ms/step - loss: 63.2653 - mae: 4.6172 - val_loss: 38.6547 - val_mae: 3.6845\n",
      "Epoch 185/200\n",
      "13/13 [==============================] - 0s 9ms/step - loss: 62.3440 - mae: 4.5093 - val_loss: 38.5623 - val_mae: 3.6920\n",
      "Epoch 186/200\n",
      "13/13 [==============================] - 0s 10ms/step - loss: 52.0727 - mae: 4.2133 - val_loss: 38.3635 - val_mae: 3.6955\n",
      "Epoch 187/200\n",
      "13/13 [==============================] - 0s 10ms/step - loss: 58.2635 - mae: 4.4388 - val_loss: 37.9963 - val_mae: 3.6513\n",
      "Epoch 188/200\n",
      "13/13 [==============================] - 0s 11ms/step - loss: 69.6544 - mae: 4.9516 - val_loss: 37.5260 - val_mae: 3.5974\n",
      "Epoch 189/200\n",
      "13/13 [==============================] - 0s 7ms/step - loss: 60.7948 - mae: 4.5449 - val_loss: 37.7826 - val_mae: 3.6432\n",
      "Epoch 190/200\n",
      "13/13 [==============================] - 0s 9ms/step - loss: 52.4624 - mae: 4.2076 - val_loss: 37.1489 - val_mae: 3.5686\n",
      "Epoch 191/200\n",
      "13/13 [==============================] - 0s 9ms/step - loss: 61.0408 - mae: 4.5885 - val_loss: 36.8336 - val_mae: 3.5697\n",
      "Epoch 192/200\n",
      "13/13 [==============================] - 0s 5ms/step - loss: 55.8859 - mae: 4.3832 - val_loss: 36.4274 - val_mae: 3.5604\n",
      "Epoch 193/200\n",
      "13/13 [==============================] - 0s 6ms/step - loss: 57.6510 - mae: 4.4120 - val_loss: 36.1546 - val_mae: 3.4750\n",
      "Epoch 194/200\n",
      "13/13 [==============================] - 0s 6ms/step - loss: 50.1982 - mae: 4.2252 - val_loss: 35.2981 - val_mae: 3.3805\n",
      "Epoch 195/200\n",
      "13/13 [==============================] - 0s 6ms/step - loss: 61.5281 - mae: 4.6148 - val_loss: 35.1086 - val_mae: 3.3681\n",
      "Epoch 196/200\n",
      "13/13 [==============================] - 0s 8ms/step - loss: 58.1739 - mae: 4.3299 - val_loss: 35.1681 - val_mae: 3.4510\n",
      "Epoch 197/200\n",
      "13/13 [==============================] - 0s 9ms/step - loss: 56.2603 - mae: 4.5924 - val_loss: 35.4644 - val_mae: 3.5063\n",
      "Epoch 198/200\n",
      "13/13 [==============================] - 0s 9ms/step - loss: 49.6605 - mae: 3.9341 - val_loss: 34.8922 - val_mae: 3.4548\n",
      "Epoch 199/200\n",
      "13/13 [==============================] - 0s 10ms/step - loss: 58.0060 - mae: 4.5017 - val_loss: 34.4755 - val_mae: 3.3744\n",
      "Epoch 200/200\n",
      "13/13 [==============================] - 0s 9ms/step - loss: 45.6189 - mae: 3.9602 - val_loss: 34.3366 - val_mae: 3.3587\n"
     ]
    }
   ],
   "source": [
    "history=model.fit(X_train,Y_train,epochs=200,batch_size=30,workers=5,validation_split=0.1)"
   ]
  },
  {
   "cell_type": "code",
   "execution_count": 58,
   "metadata": {
    "ExecuteTime": {
     "end_time": "2021-04-02T12:11:26.137137Z",
     "start_time": "2021-04-02T12:11:25.873321Z"
    }
   },
   "outputs": [
    {
     "name": "stdout",
     "output_type": "stream",
     "text": [
      "4/4 [==============================] - 0s 4ms/step - loss: 61.3947 - mae: 4.6584\n"
     ]
    },
    {
     "data": {
      "text/plain": [
       "[61.3946647644043, 4.658396244049072]"
      ]
     },
     "execution_count": 58,
     "metadata": {},
     "output_type": "execute_result"
    }
   ],
   "source": [
    "y_pred_NN=model.predict(X_test)\n",
    "model.evaluate(X_test,Y_test)"
   ]
  },
  {
   "cell_type": "code",
   "execution_count": 59,
   "metadata": {
    "ExecuteTime": {
     "end_time": "2021-04-02T12:11:48.874271Z",
     "start_time": "2021-04-02T12:11:48.862918Z"
    }
   },
   "outputs": [
    {
     "data": {
      "text/plain": [
       "4.658396161771288"
      ]
     },
     "execution_count": 59,
     "metadata": {},
     "output_type": "execute_result"
    }
   ],
   "source": [
    "mae_dt_NN = mean_absolute_error(Y_test, y_pred_NN)\n",
    "mae_dt_NN"
   ]
  },
  {
   "cell_type": "code",
   "execution_count": 60,
   "metadata": {
    "ExecuteTime": {
     "end_time": "2021-04-02T12:11:52.201402Z",
     "start_time": "2021-04-02T12:11:51.908454Z"
    }
   },
   "outputs": [
    {
     "data": {
      "text/plain": [
       "[<matplotlib.lines.Line2D at 0x21b75481400>]"
      ]
     },
     "execution_count": 60,
     "metadata": {},
     "output_type": "execute_result"
    },
    {
     "data": {
      "image/png": "[encoded data removed]",
      "text/plain": [
       "<Figure size 432x288 with 1 Axes>"
      ]
     },
     "metadata": {
      "needs_background": "light"
     },
     "output_type": "display_data"
    }
   ],
   "source": [
    "\n",
    "fig,ax=plt.subplots(1,1)\n",
    "ax.plot(np.sqrt(history.history['loss']),'r',label='train')\n",
    "ax.plot(np.sqrt(history.history['val_loss']),'b',label='val')"
   ]
  },
  {
   "cell_type": "markdown",
   "metadata": {},
   "source": [
    "The loss seems to be decreasing. But we'd use another model to compare results."
   ]
  },
  {
   "cell_type": "markdown",
   "metadata": {},
   "source": [
    "<h2>LINEAR REGRESSION</h2>"
   ]
  },
  {
   "cell_type": "code",
   "execution_count": 61,
   "metadata": {
    "ExecuteTime": {
     "end_time": "2021-04-02T12:12:17.370372Z",
     "start_time": "2021-04-02T12:12:17.350066Z"
    }
   },
   "outputs": [
    {
     "data": {
      "text/plain": [
       "0.5892223849182507"
      ]
     },
     "execution_count": 61,
     "metadata": {},
     "output_type": "execute_result"
    }
   ],
   "source": [
    "from sklearn.linear_model import LinearRegression\n",
    "LR=LinearRegression()\n",
    "LR.fit(X_train,Y_train)\n",
    "LR.score(X_test,Y_test)"
   ]
  },
  {
   "cell_type": "code",
   "execution_count": 62,
   "metadata": {
    "ExecuteTime": {
     "end_time": "2021-04-02T12:12:19.570125Z",
     "start_time": "2021-04-02T12:12:19.352770Z"
    }
   },
   "outputs": [
    {
     "data": {
      "text/plain": [
       "<matplotlib.collections.PathCollection at 0x21b754bf828>"
      ]
     },
     "execution_count": 62,
     "metadata": {},
     "output_type": "execute_result"
    },
    {
     "data": {
      "image/png": "[encoded data removed]",
      "text/plain": [
       "<Figure size 432x288 with 1 Axes>"
      ]
     },
     "metadata": {
      "needs_background": "light"
     },
     "output_type": "display_data"
    }
   ],
   "source": [
    "LR.score(X_train,Y_train)\n",
    "plt.scatter(Y_test,LR.predict(X_test))\n"
   ]
  },
  {
   "cell_type": "code",
   "execution_count": 63,
   "metadata": {
    "ExecuteTime": {
     "end_time": "2021-04-02T12:12:26.155947Z",
     "start_time": "2021-04-02T12:12:26.133856Z"
    }
   },
   "outputs": [
    {
     "data": {
      "text/plain": [
       "3.842909220444498"
      ]
     },
     "execution_count": 63,
     "metadata": {},
     "output_type": "execute_result"
    }
   ],
   "source": [
    "y_pred_LR=LR.predict(X_test)\n",
    "mae_LR = mean_absolute_error(Y_test, y_pred_LR)\n",
    "mae_LR"
   ]
  },
  {
   "cell_type": "code",
   "execution_count": 65,
   "metadata": {
    "ExecuteTime": {
     "end_time": "2021-04-02T12:13:12.302933Z",
     "start_time": "2021-04-02T12:13:12.101167Z"
    }
   },
   "outputs": [
    {
     "name": "stderr",
     "output_type": "stream",
     "text": [
      "C:\\Users\\Lenovo\\Anaconda3\\lib\\site-packages\\ipykernel_launcher.py:3: DataConversionWarning: A column-vector y was passed when a 1d array was expected. Please change the shape of y to (n_samples,), for example using ravel().\n",
      "  This is separate from the ipykernel package so we can avoid doing imports until\n"
     ]
    }
   ],
   "source": [
    "from sklearn.ensemble import RandomForestRegressor\n",
    "rf=RandomForestRegressor(n_estimators=7,criterion='mae')\n",
    "rf.fit(X_train,Y_train)\n",
    "rf.score(X_test,Y_test)\n",
    "y_pred_RF=rf.predict(X_test)\n"
   ]
  },
  {
   "cell_type": "code",
   "execution_count": 66,
   "metadata": {
    "ExecuteTime": {
     "end_time": "2021-04-02T12:13:13.600456Z",
     "start_time": "2021-04-02T12:13:13.585538Z"
    }
   },
   "outputs": [
    {
     "data": {
      "text/plain": [
       "2.8232492997198877"
      ]
     },
     "execution_count": 66,
     "metadata": {},
     "output_type": "execute_result"
    }
   ],
   "source": [
    "from sklearn.metrics import mean_absolute_error\n",
    "mae_RF = mean_absolute_error(Y_test, y_pred_RF)\n",
    "mae_RF\n"
   ]
  },
  {
   "cell_type": "code",
   "execution_count": 67,
   "metadata": {
    "ExecuteTime": {
     "end_time": "2021-04-02T12:13:22.402575Z",
     "start_time": "2021-04-02T12:13:22.178356Z"
    }
   },
   "outputs": [
    {
     "data": {
      "text/plain": [
       "<matplotlib.collections.PathCollection at 0x21b75516ac8>"
      ]
     },
     "execution_count": 67,
     "metadata": {},
     "output_type": "execute_result"
    },
    {
     "data": {
      "image/png": "[encoded data removed]",
      "text/plain": [
       "<Figure size 432x288 with 1 Axes>"
      ]
     },
     "metadata": {
      "needs_background": "light"
     },
     "output_type": "display_data"
    }
   ],
   "source": [
    "plt.scatter(Y_test,rf.predict(X_test))"
   ]
  },
  {
   "cell_type": "markdown",
   "metadata": {},
   "source": [
    "<h2>CONCLUSION</h2>"
   ]
  },
  {
   "cell_type": "code",
   "execution_count": 92,
   "metadata": {
    "ExecuteTime": {
     "end_time": "2021-04-02T12:23:35.702211Z",
     "start_time": "2021-04-02T12:23:35.681729Z"
    }
   },
   "outputs": [
    {
     "data": {
      "text/html": [
       "<div>\n",
       "<style scoped>\n",
       "    .dataframe tbody tr th:only-of-type {\n",
       "        vertical-align: middle;\n",
       "    }\n",
       "\n",
       "    .dataframe tbody tr th {\n",
       "        vertical-align: top;\n",
       "    }\n",
       "\n",
       "    .dataframe thead th {\n",
       "        text-align: right;\n",
       "    }\n",
       "</style>\n",
       "<table border=\"1\" class=\"dataframe\">\n",
       "  <thead>\n",
       "    <tr style=\"text-align: right;\">\n",
       "      <th></th>\n",
       "      <th>Mean_Absolute_Error</th>\n",
       "    </tr>\n",
       "  </thead>\n",
       "  <tbody>\n",
       "    <tr>\n",
       "      <th>RandomForest</th>\n",
       "      <td>2.823249</td>\n",
       "    </tr>\n",
       "    <tr>\n",
       "      <th>LinearRegression</th>\n",
       "      <td>3.842909</td>\n",
       "    </tr>\n",
       "    <tr>\n",
       "      <th>NeuralNetwork</th>\n",
       "      <td>4.658396</td>\n",
       "    </tr>\n",
       "  </tbody>\n",
       "</table>\n",
       "</div>"
      ],
      "text/plain": [
       "                  Mean_Absolute_Error\n",
       "RandomForest                 2.823249\n",
       "LinearRegression             3.842909\n",
       "NeuralNetwork                4.658396"
      ]
     },
     "execution_count": 92,
     "metadata": {},
     "output_type": "execute_result"
    }
   ],
   "source": [
    "Results=[mae_RF,mae_LR,mae_dt_NN]\n",
    "columns=['RandomForest','LinearRegression','NeuralNetwork']\n",
    "col=['Mean_Absolute_Error']\n",
    "pd.DataFrame(Results,columns,columns=col)\n"
   ]
  },
  {
   "cell_type": "markdown",
   "metadata": {},
   "source": [
    "We see from the above that the Random Forest Model gave a better mae and thus is the better model for predicting housing costs"
   ]
  }
 ],
 "metadata": {
  "kernelspec": {
   "display_name": "Python 3",
   "language": "python",
   "name": "python3"
  },
  "language_info": {
   "codemirror_mode": {
    "name": "ipython",
    "version": 3
   },
   "file_extension": ".py",
   "mimetype": "text/x-python",
   "name": "python",
   "nbconvert_exporter": "python",
   "pygments_lexer": "ipython3",
   "version": "3.7.0"
  },
  "toc": {
   "base_numbering": 1,
   "nav_menu": {},
   "number_sections": true,
   "sideBar": true,
   "skip_h1_title": false,
   "title_cell": "Table of Contents",
   "title_sidebar": "Contents",
   "toc_cell": false,
   "toc_position": {},
   "toc_section_display": true,
   "toc_window_display": false
  }
 },
 "nbformat": 4,
 "nbformat_minor": 2
}
